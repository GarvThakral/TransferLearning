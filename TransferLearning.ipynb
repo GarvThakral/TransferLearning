{
 "cells": [
  {
   "cell_type": "code",
   "execution_count": 1,
   "id": "68efeb2b-ac66-4b72-9bed-c752c21991fa",
   "metadata": {},
   "outputs": [
    {
     "name": "stderr",
     "output_type": "stream",
     "text": [
      "2025-08-04 11:12:40.711952: E external/local_xla/xla/stream_executor/cuda/cuda_fft.cc:467] Unable to register cuFFT factory: Attempting to register factory for plugin cuFFT when one has already been registered\n",
      "WARNING: All log messages before absl::InitializeLog() is called are written to STDERR\n",
      "E0000 00:00:1754286160.724487  278324 cuda_dnn.cc:8579] Unable to register cuDNN factory: Attempting to register factory for plugin cuDNN when one has already been registered\n",
      "E0000 00:00:1754286160.728424  278324 cuda_blas.cc:1407] Unable to register cuBLAS factory: Attempting to register factory for plugin cuBLAS when one has already been registered\n",
      "W0000 00:00:1754286160.739614  278324 computation_placer.cc:177] computation placer already registered. Please check linkage and avoid linking the same target more than once.\n",
      "W0000 00:00:1754286160.739626  278324 computation_placer.cc:177] computation placer already registered. Please check linkage and avoid linking the same target more than once.\n",
      "W0000 00:00:1754286160.739627  278324 computation_placer.cc:177] computation placer already registered. Please check linkage and avoid linking the same target more than once.\n",
      "W0000 00:00:1754286160.739629  278324 computation_placer.cc:177] computation placer already registered. Please check linkage and avoid linking the same target more than once.\n",
      "2025-08-04 11:12:40.743620: I tensorflow/core/platform/cpu_feature_guard.cc:210] This TensorFlow binary is optimized to use available CPU instructions in performance-critical operations.\n",
      "To enable the following instructions: AVX2 FMA, in other operations, rebuild TensorFlow with the appropriate compiler flags.\n"
     ]
    }
   ],
   "source": [
    "import tensorflow as tf\n",
    "import pandas as pd\n",
    "import matplotlib.pyplot as plt\n",
    "import numpy as np"
   ]
  },
  {
   "cell_type": "code",
   "execution_count": 35,
   "id": "ff89df6b-a4f3-4e3c-9476-fc6f858c257d",
   "metadata": {},
   "outputs": [],
   "source": [
    "(x_train,y_train),(x_test,y_test) = tf.keras.datasets.fashion_mnist.load_data()"
   ]
  },
  {
   "cell_type": "code",
   "execution_count": 3,
   "id": "25df8709-1cbc-44dd-a4d1-f0bc7908ac6b",
   "metadata": {},
   "outputs": [
    {
     "data": {
      "text/plain": [
       "[6000, 6000, 6000, 6000, 6000, 6000, 6000, 6000, 6000, 6000]"
      ]
     },
     "execution_count": 3,
     "metadata": {},
     "output_type": "execute_result"
    }
   ],
   "source": [
    "class_dist = [0]*10\n",
    "for x in y_train:\n",
    "    class_dist[x]+=1\n",
    "class_dist"
   ]
  },
  {
   "cell_type": "code",
   "execution_count": 36,
   "id": "6f3b8013-8ad8-4ed7-b1f7-5caeb5102191",
   "metadata": {},
   "outputs": [],
   "source": [
    "x_train = np.expand_dims(x_train,-1)"
   ]
  },
  {
   "cell_type": "code",
   "execution_count": 52,
   "id": "3ed0efca-95f1-44fe-85b3-8f6ce2e632d1",
   "metadata": {},
   "outputs": [
    {
     "data": {
      "text/plain": [
       "0"
      ]
     },
     "execution_count": 52,
     "metadata": {},
     "output_type": "execute_result"
    }
   ],
   "source": [
    "y_train[1]"
   ]
  },
  {
   "cell_type": "code",
   "execution_count": 5,
   "id": "a563203f-f5ee-4c29-a1ac-5ca30497bcf4",
   "metadata": {},
   "outputs": [
    {
     "data": {
      "text/plain": [
       "<matplotlib.image.AxesImage at 0x7253632368a0>"
      ]
     },
     "execution_count": 5,
     "metadata": {},
     "output_type": "execute_result"
    },
    {
     "data": {
      "image/png": "[encoded data removed]",
      "text/plain": [
       "<Figure size 640x480 with 1 Axes>"
      ]
     },
     "metadata": {},
     "output_type": "display_data"
    }
   ],
   "source": [
    "plt.imshow(x_train[1])"
   ]
  },
  {
   "cell_type": "code",
   "execution_count": 6,
   "id": "63ab2269-5ab6-4d14-b3d5-1dcdd3c1f90f",
   "metadata": {},
   "outputs": [
    {
     "name": "stderr",
     "output_type": "stream",
     "text": [
      "2025-08-04 11:12:47.280780: E external/local_xla/xla/stream_executor/cuda/cuda_platform.cc:51] failed call to cuInit: INTERNAL: CUDA error: Failed call to cuInit: CUDA_ERROR_UNKNOWN: unknown error\n",
      "2025-08-04 11:12:47.280809: I external/local_xla/xla/stream_executor/cuda/cuda_diagnostics.cc:178] verbose logging is disabled. Rerun with verbose logging (usually --v=1 or --vmodule=cuda_diagnostics=1) to get more diagnostic output from this module\n",
      "2025-08-04 11:12:47.280814: I external/local_xla/xla/stream_executor/cuda/cuda_diagnostics.cc:183] retrieving CUDA diagnostic information for host: garvthakral-ROG-Zephyrus-G15-GA503RM\n",
      "2025-08-04 11:12:47.280817: I external/local_xla/xla/stream_executor/cuda/cuda_diagnostics.cc:190] hostname: garvthakral-ROG-Zephyrus-G15-GA503RM\n",
      "2025-08-04 11:12:47.280927: I external/local_xla/xla/stream_executor/cuda/cuda_diagnostics.cc:197] libcuda reported version is: 570.133.7\n",
      "2025-08-04 11:12:47.280941: I external/local_xla/xla/stream_executor/cuda/cuda_diagnostics.cc:201] kernel reported version is: 570.133.7\n",
      "2025-08-04 11:12:47.280944: I external/local_xla/xla/stream_executor/cuda/cuda_diagnostics.cc:291] kernel version seems to match DSO: 570.133.7\n"
     ]
    },
    {
     "name": "stdout",
     "output_type": "stream",
     "text": [
      "Downloading data from https://storage.googleapis.com/tensorflow/keras-applications/mobilenet_v2/mobilenet_v2_weights_tf_dim_ordering_tf_kernels_1.0_96_no_top.h5\n",
      "\u001b[1m9406464/9406464\u001b[0m \u001b[32m━━━━━━━━━━━━━━━━━━━━\u001b[0m\u001b[37m\u001b[0m \u001b[1m3s\u001b[0m 0us/step\n"
     ]
    }
   ],
   "source": [
    "MobileNetV2 = tf.keras.applications.MobileNetV2(\n",
    "    input_shape=(96,96,3),\n",
    "    alpha=1.0,\n",
    "    include_top=False,\n",
    "    weights='imagenet',\n",
    ")"
   ]
  },
  {
   "cell_type": "code",
   "execution_count": 58,
   "id": "b316dc77-2c6b-4f00-bfa9-78a586e02865",
   "metadata": {},
   "outputs": [],
   "source": [
    "def preprocess(image,labels):\n",
    "    image = tf.image.grayscale_to_rgb(image)/255\n",
    "    image = tf.image.resize_with_pad(\n",
    "        image,\n",
    "        96,\n",
    "        96,\n",
    "    )\n",
    "    labels = tf.one_hot(labels,depth = 10)\n",
    "    return image,labels"
   ]
  },
  {
   "cell_type": "code",
   "execution_count": 65,
   "id": "b1eb4933-a539-448a-bcf2-3d0d399a400c",
   "metadata": {},
   "outputs": [],
   "source": [
    "tf_ds = tf.data.Dataset.from_tensor_slices((x_train,y_train))"
   ]
  },
  {
   "cell_type": "code",
   "execution_count": null,
   "id": "06bf22c1-3255-41ca-9709-80b4dd7dfb7a",
   "metadata": {},
   "outputs": [],
   "source": [
    "test_ds = tf.data.Dataset.from_tensor_slices((x_test,y_test))"
   ]
  },
  {
   "cell_type": "code",
   "execution_count": 66,
   "id": "ea46a0f5-605a-4e82-81cc-260cca020549",
   "metadata": {},
   "outputs": [],
   "source": [
    "tf_ds = tf_ds.map(preprocess)\n",
    "tf_ds = tf_ds.batch(32).prefetch(tf.data.experimental.AUTOTUNE)"
   ]
  },
  {
   "cell_type": "code",
   "execution_count": null,
   "id": "f62d9403-4280-422c-9bca-215e7f66cf25",
   "metadata": {},
   "outputs": [],
   "source": [
    "test_ds = test_ds.map(preprocess)\n",
    "test_ds = test_ds.batch(32).prefetch(tf.data.experimental.AUTOTUNE)"
   ]
  },
  {
   "cell_type": "code",
   "execution_count": 61,
   "id": "34462d31-966e-4d5e-b763-dc4983dc21f3",
   "metadata": {},
   "outputs": [
    {
     "name": "stdout",
     "output_type": "stream",
     "text": [
      "(96, 96, 3)\n"
     ]
    }
   ],
   "source": [
    "for x in tf_ds.take(1):\n",
    "    print(x[0].shape)"
   ]
  },
  {
   "cell_type": "code",
   "execution_count": 77,
   "id": "8b097ac0-c564-46ab-99f7-f4565174ed81",
   "metadata": {},
   "outputs": [
    {
     "name": "stdout",
     "output_type": "stream",
     "text": [
      "<InputLayer name=input_layer, built=True>\n",
      "<Conv2D name=Conv1, built=True>\n",
      "<BatchNormalization name=bn_Conv1, built=True>\n",
      "<ReLU name=Conv1_relu, built=True>\n",
      "<DepthwiseConv2D name=expanded_conv_depthwise, built=True>\n",
      "<BatchNormalization name=expanded_conv_depthwise_BN, built=True>\n",
      "<ReLU name=expanded_conv_depthwise_relu, built=True>\n",
      "<Conv2D name=expanded_conv_project, built=True>\n",
      "<BatchNormalization name=expanded_conv_project_BN, built=True>\n",
      "<Conv2D name=block_1_expand, built=True>\n",
      "<BatchNormalization name=block_1_expand_BN, built=True>\n",
      "<ReLU name=block_1_expand_relu, built=True>\n",
      "<ZeroPadding2D name=block_1_pad, built=True>\n",
      "<DepthwiseConv2D name=block_1_depthwise, built=True>\n",
      "<BatchNormalization name=block_1_depthwise_BN, built=True>\n",
      "<ReLU name=block_1_depthwise_relu, built=True>\n",
      "<Conv2D name=block_1_project, built=True>\n",
      "<BatchNormalization name=block_1_project_BN, built=True>\n",
      "<Conv2D name=block_2_expand, built=True>\n",
      "<BatchNormalization name=block_2_expand_BN, built=True>\n",
      "<ReLU name=block_2_expand_relu, built=True>\n",
      "<DepthwiseConv2D name=block_2_depthwise, built=True>\n",
      "<BatchNormalization name=block_2_depthwise_BN, built=True>\n",
      "<ReLU name=block_2_depthwise_relu, built=True>\n",
      "<Conv2D name=block_2_project, built=True>\n",
      "<BatchNormalization name=block_2_project_BN, built=True>\n",
      "<Add name=block_2_add, built=True>\n",
      "<Conv2D name=block_3_expand, built=True>\n",
      "<BatchNormalization name=block_3_expand_BN, built=True>\n",
      "<ReLU name=block_3_expand_relu, built=True>\n",
      "<ZeroPadding2D name=block_3_pad, built=True>\n",
      "<DepthwiseConv2D name=block_3_depthwise, built=True>\n",
      "<BatchNormalization name=block_3_depthwise_BN, built=True>\n",
      "<ReLU name=block_3_depthwise_relu, built=True>\n",
      "<Conv2D name=block_3_project, built=True>\n",
      "<BatchNormalization name=block_3_project_BN, built=True>\n",
      "<Conv2D name=block_4_expand, built=True>\n",
      "<BatchNormalization name=block_4_expand_BN, built=True>\n",
      "<ReLU name=block_4_expand_relu, built=True>\n",
      "<DepthwiseConv2D name=block_4_depthwise, built=True>\n",
      "<BatchNormalization name=block_4_depthwise_BN, built=True>\n",
      "<ReLU name=block_4_depthwise_relu, built=True>\n",
      "<Conv2D name=block_4_project, built=True>\n",
      "<BatchNormalization name=block_4_project_BN, built=True>\n",
      "<Add name=block_4_add, built=True>\n",
      "<Conv2D name=block_5_expand, built=True>\n",
      "<BatchNormalization name=block_5_expand_BN, built=True>\n",
      "<ReLU name=block_5_expand_relu, built=True>\n",
      "<DepthwiseConv2D name=block_5_depthwise, built=True>\n",
      "<BatchNormalization name=block_5_depthwise_BN, built=True>\n",
      "<ReLU name=block_5_depthwise_relu, built=True>\n",
      "<Conv2D name=block_5_project, built=True>\n",
      "<BatchNormalization name=block_5_project_BN, built=True>\n",
      "<Add name=block_5_add, built=True>\n",
      "<Conv2D name=block_6_expand, built=True>\n",
      "<BatchNormalization name=block_6_expand_BN, built=True>\n",
      "<ReLU name=block_6_expand_relu, built=True>\n",
      "<ZeroPadding2D name=block_6_pad, built=True>\n",
      "<DepthwiseConv2D name=block_6_depthwise, built=True>\n",
      "<BatchNormalization name=block_6_depthwise_BN, built=True>\n",
      "<ReLU name=block_6_depthwise_relu, built=True>\n",
      "<Conv2D name=block_6_project, built=True>\n",
      "<BatchNormalization name=block_6_project_BN, built=True>\n",
      "<Conv2D name=block_7_expand, built=True>\n",
      "<BatchNormalization name=block_7_expand_BN, built=True>\n",
      "<ReLU name=block_7_expand_relu, built=True>\n",
      "<DepthwiseConv2D name=block_7_depthwise, built=True>\n",
      "<BatchNormalization name=block_7_depthwise_BN, built=True>\n",
      "<ReLU name=block_7_depthwise_relu, built=True>\n",
      "<Conv2D name=block_7_project, built=True>\n",
      "<BatchNormalization name=block_7_project_BN, built=True>\n",
      "<Add name=block_7_add, built=True>\n",
      "<Conv2D name=block_8_expand, built=True>\n",
      "<BatchNormalization name=block_8_expand_BN, built=True>\n",
      "<ReLU name=block_8_expand_relu, built=True>\n",
      "<DepthwiseConv2D name=block_8_depthwise, built=True>\n",
      "<BatchNormalization name=block_8_depthwise_BN, built=True>\n",
      "<ReLU name=block_8_depthwise_relu, built=True>\n",
      "<Conv2D name=block_8_project, built=True>\n",
      "<BatchNormalization name=block_8_project_BN, built=True>\n",
      "<Add name=block_8_add, built=True>\n",
      "<Conv2D name=block_9_expand, built=True>\n",
      "<BatchNormalization name=block_9_expand_BN, built=True>\n",
      "<ReLU name=block_9_expand_relu, built=True>\n",
      "<DepthwiseConv2D name=block_9_depthwise, built=True>\n",
      "<BatchNormalization name=block_9_depthwise_BN, built=True>\n",
      "<ReLU name=block_9_depthwise_relu, built=True>\n",
      "<Conv2D name=block_9_project, built=True>\n",
      "<BatchNormalization name=block_9_project_BN, built=True>\n",
      "<Add name=block_9_add, built=True>\n",
      "<Conv2D name=block_10_expand, built=True>\n",
      "<BatchNormalization name=block_10_expand_BN, built=True>\n",
      "<ReLU name=block_10_expand_relu, built=True>\n",
      "<DepthwiseConv2D name=block_10_depthwise, built=True>\n",
      "<BatchNormalization name=block_10_depthwise_BN, built=True>\n",
      "<ReLU name=block_10_depthwise_relu, built=True>\n",
      "<Conv2D name=block_10_project, built=True>\n",
      "<BatchNormalization name=block_10_project_BN, built=True>\n",
      "<Conv2D name=block_11_expand, built=True>\n",
      "<BatchNormalization name=block_11_expand_BN, built=True>\n",
      "<ReLU name=block_11_expand_relu, built=True>\n",
      "<DepthwiseConv2D name=block_11_depthwise, built=True>\n",
      "<BatchNormalization name=block_11_depthwise_BN, built=True>\n",
      "<ReLU name=block_11_depthwise_relu, built=True>\n",
      "<Conv2D name=block_11_project, built=True>\n",
      "<BatchNormalization name=block_11_project_BN, built=True>\n",
      "<Add name=block_11_add, built=True>\n",
      "<Conv2D name=block_12_expand, built=True>\n",
      "<BatchNormalization name=block_12_expand_BN, built=True>\n",
      "<ReLU name=block_12_expand_relu, built=True>\n",
      "<DepthwiseConv2D name=block_12_depthwise, built=True>\n",
      "<BatchNormalization name=block_12_depthwise_BN, built=True>\n",
      "<ReLU name=block_12_depthwise_relu, built=True>\n",
      "<Conv2D name=block_12_project, built=True>\n",
      "<BatchNormalization name=block_12_project_BN, built=True>\n",
      "<Add name=block_12_add, built=True>\n",
      "<Conv2D name=block_13_expand, built=True>\n",
      "<BatchNormalization name=block_13_expand_BN, built=True>\n",
      "<ReLU name=block_13_expand_relu, built=True>\n",
      "<ZeroPadding2D name=block_13_pad, built=True>\n",
      "<DepthwiseConv2D name=block_13_depthwise, built=True>\n",
      "<BatchNormalization name=block_13_depthwise_BN, built=True>\n",
      "<ReLU name=block_13_depthwise_relu, built=True>\n",
      "<Conv2D name=block_13_project, built=True>\n",
      "<BatchNormalization name=block_13_project_BN, built=True>\n",
      "<Conv2D name=block_14_expand, built=True>\n",
      "<BatchNormalization name=block_14_expand_BN, built=True>\n",
      "<ReLU name=block_14_expand_relu, built=True>\n",
      "<DepthwiseConv2D name=block_14_depthwise, built=True>\n",
      "<BatchNormalization name=block_14_depthwise_BN, built=True>\n",
      "<ReLU name=block_14_depthwise_relu, built=True>\n",
      "<Conv2D name=block_14_project, built=True>\n",
      "<BatchNormalization name=block_14_project_BN, built=True>\n",
      "<Add name=block_14_add, built=True>\n",
      "<Conv2D name=block_15_expand, built=True>\n",
      "<BatchNormalization name=block_15_expand_BN, built=True>\n",
      "<ReLU name=block_15_expand_relu, built=True>\n",
      "<DepthwiseConv2D name=block_15_depthwise, built=True>\n",
      "<BatchNormalization name=block_15_depthwise_BN, built=True>\n",
      "<ReLU name=block_15_depthwise_relu, built=True>\n",
      "<Conv2D name=block_15_project, built=True>\n",
      "<BatchNormalization name=block_15_project_BN, built=True>\n",
      "<Add name=block_15_add, built=True>\n",
      "<Conv2D name=block_16_expand, built=True>\n",
      "<BatchNormalization name=block_16_expand_BN, built=True>\n",
      "<ReLU name=block_16_expand_relu, built=True>\n",
      "<DepthwiseConv2D name=block_16_depthwise, built=True>\n",
      "<BatchNormalization name=block_16_depthwise_BN, built=True>\n",
      "<ReLU name=block_16_depthwise_relu, built=True>\n",
      "<Conv2D name=block_16_project, built=True>\n",
      "<BatchNormalization name=block_16_project_BN, built=True>\n",
      "<Conv2D name=Conv_1, built=True>\n",
      "<BatchNormalization name=Conv_1_bn, built=True>\n",
      "<ReLU name=out_relu, built=True>\n"
     ]
    }
   ],
   "source": [
    "for layer in MobileNetV2.layers:\n",
    "    # layer.trainable = False\n",
    "    print(layer)"
   ]
  },
  {
   "cell_type": "code",
   "execution_count": 82,
   "id": "8e717143-21eb-4c2d-8166-dd144529a087",
   "metadata": {},
   "outputs": [],
   "source": [
    "X = MobileNetV2.output\n",
    "X = tf.keras.layers.GlobalAveragePooling2D()(X)\n",
    "X = tf.keras.layers.Dense(128, activation='relu')(X)   # optional intermediate layer\n",
    "outputs = tf.keras.layers.Dense(10, activation='softmax')(X)  # for 10 classes like CIFAR10/FashionMNIST\n",
    "\n",
    "# Create new model\n",
    "model = tf.keras.Model(inputs=MobileNetV2.input, outputs=outputs)"
   ]
  },
  {
   "cell_type": "code",
   "execution_count": 83,
   "id": "65225b39-dd8a-44eb-b5b6-3ae6d56da894",
   "metadata": {},
   "outputs": [],
   "source": [
    "model.compile(optimizer = \"adam\",loss = tf.keras.losses.CategoricalCrossentropy(),metrics = [\"accuracy\"])"
   ]
  },
  {
   "cell_type": "code",
   "execution_count": null,
   "id": "d54e2c1b-4f29-4ff5-b6e1-4999c7e4fb6d",
   "metadata": {},
   "outputs": [
    {
     "name": "stdout",
     "output_type": "stream",
     "text": [
      "Epoch 1/10\n",
      "\u001b[1m1875/1875\u001b[0m \u001b[32m━━━━━━━━━━━━━━━━━━━━\u001b[0m\u001b[37m\u001b[0m \u001b[1m83s\u001b[0m 43ms/step - accuracy: 0.8365 - loss: 0.4574\n",
      "Epoch 2/10\n",
      "\u001b[1m1875/1875\u001b[0m \u001b[32m━━━━━━━━━━━━━━━━━━━━\u001b[0m\u001b[37m\u001b[0m \u001b[1m80s\u001b[0m 43ms/step - accuracy: 0.8965 - loss: 0.2800\n",
      "Epoch 3/10\n",
      "\u001b[1m1604/1875\u001b[0m \u001b[32m━━━━━━━━━━━━━━━━━\u001b[0m\u001b[37m━━━\u001b[0m \u001b[1m14s\u001b[0m 54ms/step - accuracy: 0.9075 - loss: 0.2442"
     ]
    }
   ],
   "source": [
    "model.fit(tf_ds,epochs = 10)"
   ]
  },
  {
   "cell_type": "code",
   "execution_count": null,
   "id": "9c999f8d-12e0-4d18-8de7-988470831415",
   "metadata": {},
   "outputs": [],
   "source": [
    "model.eval(test_ds)"
   ]
  }
 ],
 "metadata": {
  "kernelspec": {
   "display_name": "Python 3 (ipykernel)",
   "language": "python",
   "name": "python3"
  },
  "language_info": {
   "codemirror_mode": {
    "name": "ipython",
    "version": 3
   },
   "file_extension": ".py",
   "mimetype": "text/x-python",
   "name": "python",
   "nbconvert_exporter": "python",
   "pygments_lexer": "ipython3",
   "version": "3.12.2"
  }
 },
 "nbformat": 4,
 "nbformat_minor": 5
}
